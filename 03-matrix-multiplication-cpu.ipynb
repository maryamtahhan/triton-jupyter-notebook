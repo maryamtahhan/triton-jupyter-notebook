{
 "cells": [
  {
   "cell_type": "markdown",
   "metadata": {},
   "source": [
    "# Matrix Multiplication\n",
    "\n",
    "In this tutorial, you will write a very short high-performance FP32 matrix multiplication kernel.\n",
    "You will specifically learn about:\n",
    "* Block-level matrix multiplications.\n",
    "* Multi-dimensional pointer arithmetic.\n",
    "* Program re-ordering for improved L2 cache hit rate.\n",
    "* Automatic performance tuning.\n"
   ]
  },
  {
   "cell_type": "markdown",
   "metadata": {},
   "source": [
    "## Motivations\n",
    "\n",
    "Matrix multiplications are a key building block of most modern high-performance computing systems.\n",
    "They are notoriously hard to optimize, hence their implementation is generally done by\n",
    "hardware vendors themselves as part of so-called \"kernel libraries\" (e.g., cuBLAS).\n",
    "Unfortunately, these libraries are often proprietary and cannot be easily customized\n",
    "to accommodate the needs of modern deep learning workloads (e.g., fused activation functions).\n",
    "In this tutorial, you will learn how to implement efficient matrix multiplications by\n",
    "yourself with Triton, in a way that is easy to customize and extend.\n",
    "\n",
    "Roughly speaking, the kernel that we will write will implement the following blocked\n",
    "algorithm to multiply a (M, K) by a (K, N) matrix:\n",
    "\n",
    " .. code-block:: python\n",
    "\n",
    "   # Do in parallel\n",
    "   for m in range(0, M, BLOCK_SIZE_M):\n",
    "     # Do in parallel\n",
    "     for n in range(0, N, BLOCK_SIZE_N):\n",
    "       acc = zeros((BLOCK_SIZE_M, BLOCK_SIZE_N), dtype=float32)\n",
    "       for k in range(0, K, BLOCK_SIZE_K):\n",
    "         a = A[m : m+BLOCK_SIZE_M, k : k+BLOCK_SIZE_K]\n",
    "         b = B[k : k+BLOCK_SIZE_K, n : n+BLOCK_SIZE_N]\n",
    "         acc += dot(a, b)\n",
    "       C[m : m+BLOCK_SIZE_M, n : n+BLOCK_SIZE_N] = acc\n",
    "\n",
    "where each iteration of the doubly-nested for-loop is performed by a dedicated Triton program instance."
   ]
  },
  {
   "cell_type": "markdown",
   "metadata": {},
   "source": [
    "## Compute Kernel\n",
    "\n",
    "The above algorithm is, actually, fairly straightforward to implement in Triton.\n",
    "The main difficulty comes from the computation of the memory locations at which blocks\n",
    "of :code:`A` and :code:`B` must be read in the inner loop. For that, we need\n",
    "multi-dimensional pointer arithmetic.\n",
    "\n",
    "### Pointer Arithmetic\n",
    "\n",
    "For a row-major 2D tensor :code:`X`, the memory location of :code:`X[i, j]` is given\n",
    "by :code:`&X[i, j] = X + i*stride_xi + j*stride_xj`.\n",
    "Therefore, blocks of pointers for :code:`A[m : m+BLOCK_SIZE_M, k:k+BLOCK_SIZE_K]` and\n",
    ":code:`B[k : k+BLOCK_SIZE_K, n : n+BLOCK_SIZE_N]` can be defined in pseudo-code as:\n",
    "\n",
    " .. code-block:: python\n",
    "\n",
    "   &A[m : m+BLOCK_SIZE_M, k:k+BLOCK_SIZE_K] =  a_ptr + (m : m+BLOCK_SIZE_M)[:, None]*A.stride(0) + (k : k+BLOCK_SIZE_K)[None, :]*A.stride(1);\n",
    "   &B[k : k+BLOCK_SIZE_K, n:n+BLOCK_SIZE_N] =  b_ptr + (k : k+BLOCK_SIZE_K)[:, None]*B.stride(0) + (n : n+BLOCK_SIZE_N)[None, :]*B.stride(1);\n",
    "\n",
    "Which means that pointers for blocks of A and B can be initialized (i.e., :code:`k=0`) in Triton as the following\n",
    "code. Also note that we need an extra modulo to handle the case where :code:`M` is not a multiple of\n",
    ":code:`BLOCK_SIZE_M` or :code:`N` is not a multiple of :code:`BLOCK_SIZE_N`, in which case we can pad the data with\n",
    "some useless values, which will not contribute to the results. For the :code:`K` dimension, we will handle that later\n",
    "using masking load semantics.\n",
    "\n",
    " .. code-block:: python\n",
    "\n",
    "   offs_am = (pid_m * BLOCK_SIZE_M + tl.arange(0, BLOCK_SIZE_M)) % M\n",
    "   offs_bn = (pid_n * BLOCK_SIZE_N + tl.arange(0, BLOCK_SIZE_N)) % N\n",
    "   offs_k = tl.arange(0, BLOCK_SIZE_K)\n",
    "   a_ptrs = a_ptr + (offs_am[:, None]*stride_am + offs_k [None, :]*stride_ak)\n",
    "   b_ptrs = b_ptr + (offs_k [:, None]*stride_bk + offs_bn[None, :]*stride_bn)\n",
    "\n",
    "And then updated in the inner loop as follows:\n",
    "\n",
    " .. code-block:: python\n",
    "\n",
    "   a_ptrs += BLOCK_SIZE_K * stride_ak;\n",
    "   b_ptrs += BLOCK_SIZE_K * stride_bk;\n",
    "\n",
    "### L2 Cache Optimizations\n",
    "\n",
    "As mentioned above, each program instance computes a :code:`[BLOCK_SIZE_M, BLOCK_SIZE_N]`\n",
    "block of :code:`C`.\n",
    "It is important to remember that the order in which these blocks are computed does\n",
    "matter, since it affects the L2 cache hit rate of our program, and unfortunately, a\n",
    "simple row-major ordering\n",
    "\n",
    " .. code-block:: Python\n",
    "\n",
    "   pid = triton.program_id(0);\n",
    "   grid_m = (M + BLOCK_SIZE_M - 1) // BLOCK_SIZE_M;\n",
    "   grid_n = (N + BLOCK_SIZE_N - 1) // BLOCK_SIZE_N;\n",
    "   pid_m = pid / grid_n;\n",
    "   pid_n = pid % grid_n;\n",
    "\n",
    "is just not going to cut it.\n",
    "\n",
    "One possible solution is to launch blocks in an order that promotes data reuse.\n",
    "This can be done by 'super-grouping' blocks in groups of :code:`GROUP_M` rows before\n",
    "switching to the next column:\n",
    "\n",
    " .. code-block:: python\n",
    "\n",
    "   # Program ID\n",
    "   pid = tl.program_id(axis=0)\n",
    "   # Number of program ids along the M axis\n",
    "   num_pid_m = tl.cdiv(M, BLOCK_SIZE_M)\n",
    "   # Number of programs ids along the N axis\n",
    "   num_pid_n = tl.cdiv(N, BLOCK_SIZE_N)\n",
    "   # Number of programs in group\n",
    "   num_pid_in_group = GROUP_SIZE_M * num_pid_n\n",
    "   # Id of the group this program is in\n",
    "   group_id = pid // num_pid_in_group\n",
    "   # Row-id of the first program in the group\n",
    "   first_pid_m = group_id * GROUP_SIZE_M\n",
    "   # If `num_pid_m` isn't divisible by `GROUP_SIZE_M`, the last group is smaller\n",
    "   group_size_m = min(num_pid_m - first_pid_m, GROUP_SIZE_M)\n",
    "   # *Within groups*, programs are ordered in a column-major order\n",
    "   # Row-id of the program in the *launch grid*\n",
    "   pid_m = first_pid_m + (pid % group_size_m)\n",
    "   # Col-id of the program in the *launch grid*\n",
    "   pid_n = (pid % num_pid_in_group) // group_size_m\n",
    "\n",
    "For example, in the following matmul where each matrix is 9 blocks by 9 blocks,\n",
    "we can see that if we compute the output in row-major ordering, we need to load 90\n",
    "blocks into SRAM to compute the first 9 output blocks, but if we do it in grouped\n",
    "ordering, we only need to load 54 blocks.\n",
    "\n",
    "  .. image:: grouped_vs_row_major_ordering.png\n",
    "\n",
    "In practice, this can improve the performance of our matrix multiplication kernel by\n",
    "more than 10\\% on some hardware architecture (e.g., 220 to 245 TFLOPS on A100).\n"
   ]
  },
  {
   "cell_type": "markdown",
   "metadata": {},
   "source": [
    "## Final Result"
   ]
  },
  {
   "cell_type": "code",
   "execution_count": 1,
   "metadata": {},
   "outputs": [],
   "source": [
    "import torch"
   ]
  },
  {
   "cell_type": "code",
   "execution_count": 2,
   "metadata": {},
   "outputs": [],
   "source": [
    "import triton\n",
    "import triton.language as tl"
   ]
  },
  {
   "cell_type": "code",
   "execution_count": 3,
   "metadata": {},
   "outputs": [],
   "source": [
    "BLOCK_SIZE_M = 32\n",
    "BLOCK_SIZE_N = 32\n",
    "BLOCK_SIZE_K = 32\n",
    "GROUP_SIZE_M = 8\n",
    "USE_GPU = False"
   ]
  },
  {
   "cell_type": "code",
   "execution_count": 4,
   "metadata": {},
   "outputs": [],
   "source": [
    "@triton.jit\n",
    "def matmul_kernel(\n",
    "        # Pointers to matrices\n",
    "        a_ptr, b_ptr, c_ptr,\n",
    "        # Matrix dimensions\n",
    "        M, N, K,\n",
    "        # The stride variables represent how much to increase the ptr by when moving by 1\n",
    "        # element in a particular dimension. E.g. `stride_am` is how much to increase `a_ptr`\n",
    "        # by to get the element one row down (A has M rows).\n",
    "        stride_am, stride_ak,  #\n",
    "        stride_bk, stride_bn,  #\n",
    "        stride_cm, stride_cn,\n",
    "        # Meta-parameters\n",
    "        BLOCK_SIZE_M: tl.constexpr, BLOCK_SIZE_N: tl.constexpr, BLOCK_SIZE_K: tl.constexpr,  #\n",
    "        GROUP_SIZE_M: tl.constexpr,  #\n",
    "):\n",
    "    \"\"\"Kernel for computing the matmul C = A x B.\n",
    "    A has shape (M, K), B has shape (K, N) and C has shape (M, N)\n",
    "    \"\"\"\n",
    "    # -----------------------------------------------------------\n",
    "    # Map program ids `pid` to the block of C it should compute.\n",
    "    # This is done in a grouped ordering to promote L2 data reuse.\n",
    "    # See above `L2 Cache Optimizations` section for details.\n",
    "    pid = tl.program_id(axis=0)\n",
    "    num_pid_m = tl.cdiv(M, BLOCK_SIZE_M)\n",
    "    num_pid_n = tl.cdiv(N, BLOCK_SIZE_N)\n",
    "    num_pid_in_group = GROUP_SIZE_M * num_pid_n\n",
    "    group_id = pid // num_pid_in_group\n",
    "    first_pid_m = group_id * GROUP_SIZE_M\n",
    "    group_size_m = min(num_pid_m - first_pid_m, GROUP_SIZE_M)\n",
    "    pid_m = first_pid_m + (pid % group_size_m)\n",
    "    pid_n = (pid % num_pid_in_group) // group_size_m\n",
    "\n",
    "    # ----------------------------------------------------------\n",
    "    # Create pointers for the first blocks of A and B.\n",
    "    # We will advance this pointer as we move in the K direction\n",
    "    # and accumulate\n",
    "    # `a_ptrs` is a block of [BLOCK_SIZE_M, BLOCK_SIZE_K] pointers\n",
    "    # `b_ptrs` is a block of [BLOCK_SIZE_K, BLOCK_SIZE_N] pointers\n",
    "    # See above `Pointer Arithmetic` section for details\n",
    "    offs_am = (pid_m * BLOCK_SIZE_M + tl.arange(0, BLOCK_SIZE_M)) % M\n",
    "    offs_bn = (pid_n * BLOCK_SIZE_N + tl.arange(0, BLOCK_SIZE_N)) % N\n",
    "    offs_k = tl.arange(0, BLOCK_SIZE_K)\n",
    "    a_ptrs = a_ptr + (offs_am[:, None] * stride_am + offs_k[None, :] * stride_ak)\n",
    "    b_ptrs = b_ptr + (offs_k[:, None] * stride_bk + offs_bn[None, :] * stride_bn)\n",
    "\n",
    "    # -----------------------------------------------------------\n",
    "    # Iterate to compute a block of the C matrix.\n",
    "    # We accumulate into a `[BLOCK_SIZE_M, BLOCK_SIZE_N]` block\n",
    "    # of fp32 values for higher accuracy.\n",
    "    # `accumulator` will be converted back to matrix C's type after the loop, if C has lower precision type (for example, float16 and bfloat16).\n",
    "    accumulator = tl.zeros((BLOCK_SIZE_M, BLOCK_SIZE_N), dtype=tl.float32)\n",
    "    for k in range(0, tl.cdiv(K, BLOCK_SIZE_K)):\n",
    "        # Load the next block of A and B, generate a mask by checking the K dimension.\n",
    "        # If it is out of bounds, set it to 0.\n",
    "\n",
    "        # TODO: Currently masked load is not supported yet.\n",
    "        # a = tl.load(a_ptrs, mask=offs_k[None, :] < K - k * BLOCK_SIZE_K, other=0.0)\n",
    "        # b = tl.load(b_ptrs, mask=offs_k[:, None] < K - k * BLOCK_SIZE_K, other=0.0)\n",
    "        a = tl.load(a_ptrs)\n",
    "        b = tl.load(b_ptrs)\n",
    "        # We accumulate along the K dimension.\n",
    "        accumulator = tl.dot(a, b, accumulator, out_dtype=tl.float32)\n",
    "        # Advance the ptrs to the next K block.\n",
    "        a_ptrs += BLOCK_SIZE_K * stride_ak\n",
    "        b_ptrs += BLOCK_SIZE_K * stride_bk\n",
    "\n",
    "    # Convert the accumulator to the output matrix C's type if needed.\n",
    "    c = accumulator\n",
    "\n",
    "    # -----------------------------------------------------------\n",
    "    # Write back the block of the output matrix C with masks.\n",
    "    offs_cm = pid_m * BLOCK_SIZE_M + tl.arange(0, BLOCK_SIZE_M)\n",
    "    offs_cn = pid_n * BLOCK_SIZE_N + tl.arange(0, BLOCK_SIZE_N)\n",
    "    c_ptrs = c_ptr + stride_cm * offs_cm[:, None] + stride_cn * offs_cn[None, :]\n",
    "\n",
    "    # TODO: Currently masked load is not supported yet.\n",
    "    # c_mask = (offs_cm[:, None] < M) & (offs_cn[None, :] < N)\n",
    "    # tl.store(c_ptrs, c, mask=c_mask)\n",
    "    tl.store(c_ptrs, c)"
   ]
  },
  {
   "cell_type": "markdown",
   "metadata": {},
   "source": [
    "We can now create a convenience wrapper function that only takes two input tensors,\n",
    "and (1) checks any shape constraint; (2) allocates the output; (3) launches the above kernel."
   ]
  },
  {
   "cell_type": "code",
   "execution_count": 5,
   "metadata": {},
   "outputs": [],
   "source": [
    "def matmul(a: torch.Tensor, b: torch.Tensor, c: torch.Tensor, num_threads=0):\n",
    "    # Check constraints.\n",
    "    assert a.shape[1] == b.shape[0], \"Incompatible dimensions\"\n",
    "    assert a.is_contiguous(), \"Matrix A must be contiguous\"\n",
    "    M, K = a.shape\n",
    "    K, N = b.shape\n",
    "    #TODO: Currently masked load is not supported yet.\n",
    "    assert (M % BLOCK_SIZE_M == 0) and (N % BLOCK_SIZE_N == 0) and (\n",
    "        K % BLOCK_SIZE_K == 0), \"Masking currently not supported, Matrix dimensions must be multiples of block size\"\n",
    "    if c is None:\n",
    "        # Allocates output.\n",
    "        c = torch.empty((M, N), device=a.device, dtype=a.dtype)\n",
    "    else:\n",
    "        assert c.shape == (M, N), \"Incompatible dimensions\"\n",
    "    # 1D launch kernel where each block gets its own program.\n",
    "    grid = (triton.cdiv(M, BLOCK_SIZE_M) * triton.cdiv(N, BLOCK_SIZE_N), )\n",
    "    matmul_kernel[grid](\n",
    "        a, b, c,  #\n",
    "        M, N, K,  #\n",
    "        a.stride(0), a.stride(1),  #\n",
    "        b.stride(0), b.stride(1),  #\n",
    "        c.stride(0), c.stride(1),  #\n",
    "        BLOCK_SIZE_M=BLOCK_SIZE_M, BLOCK_SIZE_N=BLOCK_SIZE_N, BLOCK_SIZE_K=BLOCK_SIZE_K,  #\n",
    "        GROUP_SIZE_M=GROUP_SIZE_M,  #\n",
    "        num_threads=num_threads,  #\n",
    "    )\n",
    "    return c"
   ]
  },
  {
   "cell_type": "markdown",
   "metadata": {},
   "source": [
    "## Unit Test\n",
    "We can test our custom matrix multiplication operation against a native torch implementation."
   ]
  },
  {
   "cell_type": "code",
   "execution_count": 6,
   "metadata": {},
   "outputs": [
    {
     "data": {
      "text/plain": [
       "<torch._C.Generator at 0x7fbd930e7b50>"
      ]
     },
     "execution_count": 6,
     "metadata": {},
     "output_type": "execute_result"
    }
   ],
   "source": [
    "torch.manual_seed(0)"
   ]
  },
  {
   "cell_type": "code",
   "execution_count": 7,
   "metadata": {},
   "outputs": [],
   "source": [
    "triton.runtime.driver.set_active_to_cpu()"
   ]
  },
  {
   "cell_type": "code",
   "execution_count": 8,
   "metadata": {},
   "outputs": [
    {
     "name": "stdout",
     "output_type": "stream",
     "text": [
      "triton_cpu_output_with_torch.float32_inputs=tensor([[ 34.1671,  -0.6265,   2.1590,  ..., -24.7347,  45.6671,  12.1024],\n",
      "        [-12.4534, -18.2695,   5.6328,  ...,   3.7349, -24.7166,  18.7390],\n",
      "        [ 10.1346,   7.3148, -15.2706,  ...,  33.5417, -18.3999, -61.9606],\n",
      "        ...,\n",
      "        [-25.3489,  16.8383,  25.1225,  ...,  22.5323, -34.2459,  22.0001],\n",
      "        [  9.3619,  47.0127,  12.2615,  ..., -32.7080, -19.9729,   7.6856],\n",
      "        [-12.7559, -20.7132,  14.4755,  ...,  23.1968, -14.5273,  19.9374]])\n",
      "torch_cpu_output_with_torch.float32_inputs=tensor([[ 34.1671,  -0.6265,   2.1590,  ..., -24.7347,  45.6670,  12.1024],\n",
      "        [-12.4534, -18.2695,   5.6328,  ...,   3.7349, -24.7166,  18.7390],\n",
      "        [ 10.1346,   7.3148, -15.2706,  ...,  33.5417, -18.3999, -61.9606],\n",
      "        ...,\n",
      "        [-25.3489,  16.8383,  25.1225,  ...,  22.5323, -34.2459,  22.0001],\n",
      "        [  9.3619,  47.0127,  12.2615,  ..., -32.7080, -19.9729,   7.6856],\n",
      "        [-12.7559, -20.7132,  14.4755,  ...,  23.1968, -14.5273,  19.9374]])\n",
      "✅ TritonCPU and TorchCPU match\n"
     ]
    }
   ],
   "source": [
    "a = torch.randn((512, 512), device='cpu', dtype=torch.float32)\n",
    "b = torch.randn((512, 512), device='cpu', dtype=torch.float32)\n",
    "triton_output = matmul(a, b, None)\n",
    "torch_output = torch.matmul(a, b)\n",
    "print(f\"triton_cpu_output_with_{a.dtype}_inputs={triton_output}\")\n",
    "print(f\"torch_cpu_output_with_{a.dtype}_inputs={torch_output}\")\n",
    "rtol = 0\n",
    "if torch.allclose(triton_output, torch_output, atol=1e-2, rtol=rtol):\n",
    "    print(\"✅ TritonCPU and TorchCPU match\")\n",
    "else:\n",
    "    print(\"❌ TritonCPU and TorchCPU differ, the maximum difference is \"\n",
    "          f'{torch.max(torch.abs(triton_output - torch_output))}')"
   ]
  },
  {
   "cell_type": "markdown",
   "metadata": {},
   "source": [
    "## Benchmark\n",
    "\n",
    "### Square Matrix Performance\n",
    "We can now compare the performance of our kernel against that of Pytorch. Here we focus on square matrices,\n",
    "but feel free to arrange this script as you wish to benchmark any other matrix shape."
   ]
  },
  {
   "cell_type": "code",
   "execution_count": 9,
   "metadata": {},
   "outputs": [],
   "source": [
    "LINE_VALS = ['triton-cpu-single', 'triton-cpu', 'torch-cpu-native', 'torch-cpu-compile']\n",
    "LINE_NAMES = ['TritonCPU 1', 'TritonCPU', 'TorchCPU (native)', 'TorchCPU (compile)']\n",
    "LINE_STYLES = [('blue', '--'), ('blue', '-'), ('green', '--'), ('green', '-')]"
   ]
  },
  {
   "cell_type": "code",
   "execution_count": 10,
   "metadata": {},
   "outputs": [],
   "source": [
    "if USE_GPU and triton.runtime.driver.get_active_gpus():\n",
    "    triton.runtime.driver.set_active_to_gpu()\n",
    "    a = a.to('cuda')\n",
    "    b = b.to('cuda')\n",
    "    triton_output = matmul(a, b, None)\n",
    "    torch_output = torch.matmul(a, b)\n",
    "    print(f\"triton_gpu_output_with_{a.dtype}_inputs={triton_output}\")\n",
    "    print(f\"torch_gpu_output_with_{a.dtype}_inputs={torch_output}\")\n",
    "    rtol = 0\n",
    "    if torch.allclose(triton_output, torch_output, atol=1e-2, rtol=rtol):\n",
    "        print(\"✅ TritonGPU and TorchGPU match\")\n",
    "    else:\n",
    "        print(\"❌ TritonGPU and TorchGPU differ, the maximum difference is \"\n",
    "              f'{torch.max(torch.abs(triton_output - torch_output))}')\n",
    "    LINE_VALS += ['triton-gpu', 'torch-gpu']\n",
    "    LINE_NAMES += ['TritonGPU', 'TorchGPU']\n",
    "    LINE_STYLES += [('yellow', '-'), ('red', '-')]"
   ]
  },
  {
   "cell_type": "markdown",
   "metadata": {},
   "source": [
    "Seems like we're good to go!"
   ]
  },
  {
   "cell_type": "markdown",
   "metadata": {},
   "source": [
    "## Benchmark\n",
    "\n",
    "We can now benchmark our custom op on vectors of increasing sizes to get a sense of how it does relative to PyTorch.\n",
    "To make things easier, Triton has a set of built-in utilities that allow us to concisely plot the performance of our custom ops.\n",
    "for different problem sizes."
   ]
  },
  {
   "cell_type": "code",
   "execution_count": 11,
   "metadata": {},
   "outputs": [],
   "source": [
    "@triton.testing.perf_report(\n",
    "    triton.testing.Benchmark(\n",
    "        x_names=[\"M\", \"N\", \"K\"],  # Argument names to use as an x-axis for the plot\n",
    "        x_vals=[128 * i for i in range(2, 21)],  # Different possible values for `x_name`\n",
    "        line_arg='provider',  # Argument name whose value corresponds to a different line in the plot.\n",
    "        line_vals=LINE_VALS,  # Possible values for `line_arg`.\n",
    "        line_names=LINE_NAMES,  # Label name for the lines.\n",
    "        styles=LINE_STYLES,  # Line styles.\n",
    "        ylabel='GFLOPS',  # Label name for the y-axis.\n",
    "        plot_name=\n",
    "        # Name for the plot. Used also as a file name for saving the plot.\n",
    "        f'matmul-performance-fp32 (BLOCK_SIZE_M={BLOCK_SIZE_M}, BLOCK_SIZE_N={BLOCK_SIZE_N}, BLOCK_SIZE_K={BLOCK_SIZE_K}, GROUP_SIZE_M={GROUP_SIZE_M})',\n",
    "        args={},  # Values for function arguments not in `x_names` and `y_name`.\n",
    "    ))\n",
    "def benchmark(M, N, K, provider):\n",
    "    device = 'cpu' if 'cpu' in provider else 'cuda'\n",
    "    a = torch.randn((M, K), device=device, dtype=torch.float32)\n",
    "    b = torch.randn((K, N), device=device, dtype=torch.float32)\n",
    "    if device == 'cpu':\n",
    "        c = torch.empty((M, N), device=a.device, dtype=a.dtype)\n",
    "        triton.runtime.driver.set_active_to_cpu()\n",
    "    else:\n",
    "        c = None\n",
    "        triton.runtime.driver.set_active_to_gpu()\n",
    "    quantiles = [0.5, 0.2, 0.8]\n",
    "    if provider == 'torch-gpu':\n",
    "        ms, min_ms, max_ms = triton.testing.do_bench(lambda: torch.matmul(a, b), quantiles=quantiles)\n",
    "    elif provider == 'triton-gpu':\n",
    "        ms, min_ms, max_ms = triton.testing.do_bench(lambda: matmul(a, b, None), quantiles=quantiles)\n",
    "    elif provider == 'torch-cpu-native':\n",
    "        ms, min_ms, max_ms = triton.testing.do_bench(lambda: torch.matmul(a, b, out=c), quantiles=quantiles)\n",
    "    elif provider == 'torch-cpu-compile':\n",
    "        compiled = torch.compile(torch.matmul)\n",
    "        ms, min_ms, max_ms = triton.testing.do_bench(lambda: compiled(a, b, out=c), quantiles=quantiles)\n",
    "    elif provider == 'triton-cpu-single':\n",
    "        ms, min_ms, max_ms = triton.testing.do_bench(lambda: matmul(a, b, c, num_threads=1), quantiles=quantiles)\n",
    "    elif provider == 'triton-cpu':\n",
    "        ms, min_ms, max_ms = triton.testing.do_bench(lambda: matmul(a, b, c), quantiles=quantiles)\n",
    "    perf = lambda ms: 2 * M * N * K * 1e-9 / (ms * 1e-3)\n",
    "    return perf(ms), perf(max_ms), perf(min_ms)"
   ]
  },
  {
   "cell_type": "markdown",
   "metadata": {},
   "source": [
    "We can now run the decorated function above. Pass `print_data=True` to see the performance number, `show_plots=True` to plot them, and/or\n",
    "`save_path='/path/to/results/' to save them to disk along with raw CSV data:"
   ]
  },
  {
   "cell_type": "code",
   "execution_count": 12,
   "metadata": {},
   "outputs": [
    {
     "ename": "TypeError",
     "evalue": "must be called with a dataclass type or instance",
     "output_type": "error",
     "traceback": [
      "\u001b[0;31m---------------------------------------------------------------------------\u001b[0m",
      "\u001b[0;31mTypeError\u001b[0m                                 Traceback (most recent call last)",
      "Cell \u001b[0;32mIn[12], line 1\u001b[0m\n\u001b[0;32m----> 1\u001b[0m \u001b[43mbenchmark\u001b[49m\u001b[38;5;241;43m.\u001b[39;49m\u001b[43mrun\u001b[49m\u001b[43m(\u001b[49m\u001b[43mprint_data\u001b[49m\u001b[38;5;241;43m=\u001b[39;49m\u001b[38;5;28;43;01mTrue\u001b[39;49;00m\u001b[43m,\u001b[49m\u001b[43m \u001b[49m\u001b[43mshow_plots\u001b[49m\u001b[38;5;241;43m=\u001b[39;49m\u001b[38;5;28;43;01mTrue\u001b[39;49;00m\u001b[43m)\u001b[49m\n",
      "File \u001b[0;32m/triton-cpu/python/triton/testing.py:370\u001b[0m, in \u001b[0;36mMark.run\u001b[0;34m(self, show_plots, print_data, save_path, return_df, **kwargs)\u001b[0m\n\u001b[1;32m    368\u001b[0m     html\u001b[38;5;241m.\u001b[39mwrite(\u001b[38;5;124m\"\u001b[39m\u001b[38;5;124m<html><body>\u001b[39m\u001b[38;5;130;01m\\n\u001b[39;00m\u001b[38;5;124m\"\u001b[39m)\n\u001b[1;32m    369\u001b[0m \u001b[38;5;28;01mfor\u001b[39;00m bench \u001b[38;5;129;01min\u001b[39;00m benchmarks:\n\u001b[0;32m--> 370\u001b[0m     result_dfs\u001b[38;5;241m.\u001b[39mappend(\u001b[38;5;28;43mself\u001b[39;49m\u001b[38;5;241;43m.\u001b[39;49m\u001b[43m_run\u001b[49m\u001b[43m(\u001b[49m\u001b[43mbench\u001b[49m\u001b[43m,\u001b[49m\u001b[43m \u001b[49m\u001b[43msave_path\u001b[49m\u001b[43m,\u001b[49m\u001b[43m \u001b[49m\u001b[43mshow_plots\u001b[49m\u001b[43m,\u001b[49m\u001b[43m \u001b[49m\u001b[43mprint_data\u001b[49m\u001b[43m,\u001b[49m\u001b[43m \u001b[49m\u001b[38;5;241;43m*\u001b[39;49m\u001b[38;5;241;43m*\u001b[39;49m\u001b[43mkwargs\u001b[49m\u001b[43m)\u001b[49m)\n\u001b[1;32m    371\u001b[0m     \u001b[38;5;28;01mif\u001b[39;00m save_path:\n\u001b[1;32m    372\u001b[0m         html\u001b[38;5;241m.\u001b[39mwrite(\u001b[38;5;124mf\u001b[39m\u001b[38;5;124m\"\u001b[39m\u001b[38;5;124m<image src=\u001b[39m\u001b[38;5;130;01m\\\"\u001b[39;00m\u001b[38;5;132;01m{\u001b[39;00mbench\u001b[38;5;241m.\u001b[39mplot_name\u001b[38;5;132;01m}\u001b[39;00m\u001b[38;5;124m.png\u001b[39m\u001b[38;5;130;01m\\\"\u001b[39;00m\u001b[38;5;124m/>\u001b[39m\u001b[38;5;130;01m\\n\u001b[39;00m\u001b[38;5;124m\"\u001b[39m)\n",
      "File \u001b[0;32m/triton-cpu/python/triton/testing.py:313\u001b[0m, in \u001b[0;36mMark._run\u001b[0;34m(self, bench, save_path, show_plots, print_data, diff_col, save_precision, **kwrags)\u001b[0m\n\u001b[1;32m    311\u001b[0m row_mean, row_min, row_max \u001b[38;5;241m=\u001b[39m [], [], []\n\u001b[1;32m    312\u001b[0m \u001b[38;5;28;01mfor\u001b[39;00m y \u001b[38;5;129;01min\u001b[39;00m bench\u001b[38;5;241m.\u001b[39mline_vals:\n\u001b[0;32m--> 313\u001b[0m     ret \u001b[38;5;241m=\u001b[39m \u001b[38;5;28;43mself\u001b[39;49m\u001b[38;5;241;43m.\u001b[39;49m\u001b[43mfn\u001b[49m\u001b[43m(\u001b[49m\u001b[38;5;241;43m*\u001b[39;49m\u001b[38;5;241;43m*\u001b[39;49m\u001b[43mx_args\u001b[49m\u001b[43m,\u001b[49m\u001b[43m \u001b[49m\u001b[38;5;241;43m*\u001b[39;49m\u001b[38;5;241;43m*\u001b[39;49m\u001b[43m{\u001b[49m\u001b[43mbench\u001b[49m\u001b[38;5;241;43m.\u001b[39;49m\u001b[43mline_arg\u001b[49m\u001b[43m:\u001b[49m\u001b[43m \u001b[49m\u001b[43my\u001b[49m\u001b[43m}\u001b[49m\u001b[43m,\u001b[49m\u001b[43m \u001b[49m\u001b[38;5;241;43m*\u001b[39;49m\u001b[38;5;241;43m*\u001b[39;49m\u001b[43mbench\u001b[49m\u001b[38;5;241;43m.\u001b[39;49m\u001b[43margs\u001b[49m\u001b[43m,\u001b[49m\u001b[43m \u001b[49m\u001b[38;5;241;43m*\u001b[39;49m\u001b[38;5;241;43m*\u001b[39;49m\u001b[43mkwrags\u001b[49m\u001b[43m)\u001b[49m\n\u001b[1;32m    314\u001b[0m     \u001b[38;5;28;01mtry\u001b[39;00m:\n\u001b[1;32m    315\u001b[0m         y_mean, y_min, y_max \u001b[38;5;241m=\u001b[39m ret\n",
      "Cell \u001b[0;32mIn[11], line 33\u001b[0m, in \u001b[0;36mbenchmark\u001b[0;34m(M, N, K, provider)\u001b[0m\n\u001b[1;32m     31\u001b[0m     ms, min_ms, max_ms \u001b[38;5;241m=\u001b[39m triton\u001b[38;5;241m.\u001b[39mtesting\u001b[38;5;241m.\u001b[39mdo_bench(\u001b[38;5;28;01mlambda\u001b[39;00m: torch\u001b[38;5;241m.\u001b[39mmatmul(a, b, out\u001b[38;5;241m=\u001b[39mc), quantiles\u001b[38;5;241m=\u001b[39mquantiles)\n\u001b[1;32m     32\u001b[0m \u001b[38;5;28;01melif\u001b[39;00m provider \u001b[38;5;241m==\u001b[39m \u001b[38;5;124m'\u001b[39m\u001b[38;5;124mtorch-cpu-compile\u001b[39m\u001b[38;5;124m'\u001b[39m:\n\u001b[0;32m---> 33\u001b[0m     compiled \u001b[38;5;241m=\u001b[39m \u001b[43mtorch\u001b[49m\u001b[38;5;241;43m.\u001b[39;49m\u001b[43mcompile\u001b[49m\u001b[43m(\u001b[49m\u001b[43mtorch\u001b[49m\u001b[38;5;241;43m.\u001b[39;49m\u001b[43mmatmul\u001b[49m\u001b[43m)\u001b[49m\n\u001b[1;32m     34\u001b[0m     ms, min_ms, max_ms \u001b[38;5;241m=\u001b[39m triton\u001b[38;5;241m.\u001b[39mtesting\u001b[38;5;241m.\u001b[39mdo_bench(\u001b[38;5;28;01mlambda\u001b[39;00m: compiled(a, b, out\u001b[38;5;241m=\u001b[39mc), quantiles\u001b[38;5;241m=\u001b[39mquantiles)\n\u001b[1;32m     35\u001b[0m \u001b[38;5;28;01melif\u001b[39;00m provider \u001b[38;5;241m==\u001b[39m \u001b[38;5;124m'\u001b[39m\u001b[38;5;124mtriton-cpu-single\u001b[39m\u001b[38;5;124m'\u001b[39m:\n",
      "File \u001b[0;32m/opt/app-root/lib64/python3.12/site-packages/torch/__init__.py:2447\u001b[0m, in \u001b[0;36mcompile\u001b[0;34m(model, fullgraph, dynamic, backend, mode, options, disable)\u001b[0m\n\u001b[1;32m   2444\u001b[0m \u001b[38;5;28;01melse\u001b[39;00m:\n\u001b[1;32m   2445\u001b[0m     backend \u001b[38;5;241m=\u001b[39m _TorchCompileWrapper(backend, mode, options, dynamic)\n\u001b[0;32m-> 2447\u001b[0m \u001b[38;5;28;01mreturn\u001b[39;00m \u001b[43mtorch\u001b[49m\u001b[38;5;241;43m.\u001b[39;49m\u001b[43m_dynamo\u001b[49m\u001b[38;5;241;43m.\u001b[39;49m\u001b[43moptimize\u001b[49m\u001b[43m(\u001b[49m\n\u001b[1;32m   2448\u001b[0m \u001b[43m    \u001b[49m\u001b[43mbackend\u001b[49m\u001b[38;5;241;43m=\u001b[39;49m\u001b[43mbackend\u001b[49m\u001b[43m,\u001b[49m\n\u001b[1;32m   2449\u001b[0m \u001b[43m    \u001b[49m\u001b[43mnopython\u001b[49m\u001b[38;5;241;43m=\u001b[39;49m\u001b[43mfullgraph\u001b[49m\u001b[43m,\u001b[49m\n\u001b[1;32m   2450\u001b[0m \u001b[43m    \u001b[49m\u001b[43mdynamic\u001b[49m\u001b[38;5;241;43m=\u001b[39;49m\u001b[43mdynamic\u001b[49m\u001b[43m,\u001b[49m\n\u001b[1;32m   2451\u001b[0m \u001b[43m    \u001b[49m\u001b[43mdisable\u001b[49m\u001b[38;5;241;43m=\u001b[39;49m\u001b[43mdisable\u001b[49m\u001b[43m,\u001b[49m\n\u001b[1;32m   2452\u001b[0m \u001b[43m\u001b[49m\u001b[43m)\u001b[49m(model)\n",
      "File \u001b[0;32m/opt/app-root/lib64/python3.12/site-packages/torch/_dynamo/eval_frame.py:716\u001b[0m, in \u001b[0;36moptimize\u001b[0;34m(*args, **kwargs)\u001b[0m\n\u001b[1;32m    713\u001b[0m \u001b[38;5;28;01mdef\u001b[39;00m \u001b[38;5;21mrebuild_ctx\u001b[39m():\n\u001b[1;32m    714\u001b[0m     \u001b[38;5;28;01mreturn\u001b[39;00m optimize(\u001b[38;5;241m*\u001b[39margs, \u001b[38;5;241m*\u001b[39m\u001b[38;5;241m*\u001b[39mkwargs)\n\u001b[0;32m--> 716\u001b[0m \u001b[38;5;28;01mreturn\u001b[39;00m \u001b[43m_optimize\u001b[49m\u001b[43m(\u001b[49m\u001b[43mrebuild_ctx\u001b[49m\u001b[43m,\u001b[49m\u001b[43m \u001b[49m\u001b[38;5;241;43m*\u001b[39;49m\u001b[43margs\u001b[49m\u001b[43m,\u001b[49m\u001b[43m \u001b[49m\u001b[38;5;241;43m*\u001b[39;49m\u001b[38;5;241;43m*\u001b[39;49m\u001b[43mkwargs\u001b[49m\u001b[43m)\u001b[49m\n",
      "File \u001b[0;32m/opt/app-root/lib64/python3.12/site-packages/torch/_dynamo/eval_frame.py:790\u001b[0m, in \u001b[0;36m_optimize\u001b[0;34m(rebuild_ctx, backend, nopython, guard_export_fn, guard_fail_fn, disable, dynamic)\u001b[0m\n\u001b[1;32m    776\u001b[0m     \u001b[38;5;28;01mreturn\u001b[39;00m optimize_assert(\n\u001b[1;32m    777\u001b[0m         backend,\n\u001b[1;32m    778\u001b[0m         dynamic\u001b[38;5;241m=\u001b[39mdynamic,\n\u001b[1;32m    779\u001b[0m         hooks\u001b[38;5;241m=\u001b[39mhooks,\n\u001b[1;32m    780\u001b[0m         rebuild_ctx\u001b[38;5;241m=\u001b[39mrebuild_ctx,\n\u001b[1;32m    781\u001b[0m     )\n\u001b[1;32m    782\u001b[0m \u001b[38;5;66;03m# The backend function is stashed in the callable returned by\u001b[39;00m\n\u001b[1;32m    783\u001b[0m \u001b[38;5;66;03m# _optimize_catch_errors in the field _torchdynamo_orig_callable. This can\u001b[39;00m\n\u001b[1;32m    784\u001b[0m \u001b[38;5;66;03m# be used by eval_frame.c to insert a guard on the backend.\u001b[39;00m\n\u001b[1;32m    785\u001b[0m \u001b[38;5;28;01mreturn\u001b[39;00m _optimize_catch_errors(\n\u001b[1;32m    786\u001b[0m     convert_frame\u001b[38;5;241m.\u001b[39mconvert_frame(backend, hooks\u001b[38;5;241m=\u001b[39mhooks),\n\u001b[1;32m    787\u001b[0m     hooks,\n\u001b[1;32m    788\u001b[0m     backend_ctx_ctor,\n\u001b[1;32m    789\u001b[0m     dynamic\u001b[38;5;241m=\u001b[39mdynamic,\n\u001b[0;32m--> 790\u001b[0m     compiler_config\u001b[38;5;241m=\u001b[39m\u001b[43mbackend\u001b[49m\u001b[38;5;241;43m.\u001b[39;49m\u001b[43mget_compiler_config\u001b[49m\u001b[43m(\u001b[49m\u001b[43m)\u001b[49m\n\u001b[1;32m    791\u001b[0m     \u001b[38;5;28;01mif\u001b[39;00m \u001b[38;5;28mhasattr\u001b[39m(backend, \u001b[38;5;124m\"\u001b[39m\u001b[38;5;124mget_compiler_config\u001b[39m\u001b[38;5;124m\"\u001b[39m)\n\u001b[1;32m    792\u001b[0m     \u001b[38;5;28;01melse\u001b[39;00m \u001b[38;5;28;01mNone\u001b[39;00m,\n\u001b[1;32m    793\u001b[0m     rebuild_ctx\u001b[38;5;241m=\u001b[39mrebuild_ctx,\n\u001b[1;32m    794\u001b[0m )\n",
      "File \u001b[0;32m/opt/app-root/lib64/python3.12/site-packages/torch/__init__.py:2237\u001b[0m, in \u001b[0;36m_TorchCompileInductorWrapper.get_compiler_config\u001b[0;34m(self)\u001b[0m\n\u001b[1;32m   2236\u001b[0m \u001b[38;5;28;01mdef\u001b[39;00m \u001b[38;5;21mget_compiler_config\u001b[39m(\u001b[38;5;28mself\u001b[39m):\n\u001b[0;32m-> 2237\u001b[0m     \u001b[38;5;28;01mfrom\u001b[39;00m \u001b[38;5;21;01mtorch\u001b[39;00m\u001b[38;5;21;01m.\u001b[39;00m\u001b[38;5;21;01m_inductor\u001b[39;00m\u001b[38;5;21;01m.\u001b[39;00m\u001b[38;5;21;01mcompile_fx\u001b[39;00m \u001b[38;5;28;01mimport\u001b[39;00m get_patched_config_dict\n\u001b[1;32m   2239\u001b[0m     \u001b[38;5;28;01mreturn\u001b[39;00m get_patched_config_dict(config_patches\u001b[38;5;241m=\u001b[39m\u001b[38;5;28mself\u001b[39m\u001b[38;5;241m.\u001b[39mconfig)\n",
      "File \u001b[0;32m/opt/app-root/lib64/python3.12/site-packages/torch/_inductor/compile_fx.py:49\u001b[0m\n\u001b[1;32m     36\u001b[0m \u001b[38;5;28;01mfrom\u001b[39;00m \u001b[38;5;21;01mtorch\u001b[39;00m\u001b[38;5;21;01m.\u001b[39;00m\u001b[38;5;21;01m_inductor\u001b[39;00m\u001b[38;5;21;01m.\u001b[39;00m\u001b[38;5;21;01mcodecache\u001b[39;00m \u001b[38;5;28;01mimport\u001b[39;00m (\n\u001b[1;32m     37\u001b[0m     _StrideExprStr,\n\u001b[1;32m     38\u001b[0m     code_hash,\n\u001b[1;32m     39\u001b[0m     CompiledFxGraph,\n\u001b[1;32m     40\u001b[0m     FxGraphCache,\n\u001b[1;32m     41\u001b[0m )\n\u001b[1;32m     42\u001b[0m \u001b[38;5;28;01mfrom\u001b[39;00m \u001b[38;5;21;01mtorch\u001b[39;00m\u001b[38;5;21;01m.\u001b[39;00m\u001b[38;5;21;01m_inductor\u001b[39;00m\u001b[38;5;21;01m.\u001b[39;00m\u001b[38;5;21;01mcudagraph_utils\u001b[39;00m \u001b[38;5;28;01mimport\u001b[39;00m (\n\u001b[1;32m     43\u001b[0m     BoxedDeviceIndex,\n\u001b[1;32m     44\u001b[0m     CudagraphCachedInfo,\n\u001b[0;32m   (...)\u001b[0m\n\u001b[1;32m     47\u001b[0m     PlaceholderInfo,\n\u001b[1;32m     48\u001b[0m )\n\u001b[0;32m---> 49\u001b[0m \u001b[38;5;28;01mfrom\u001b[39;00m \u001b[38;5;21;01mtorch\u001b[39;00m\u001b[38;5;21;01m.\u001b[39;00m\u001b[38;5;21;01m_inductor\u001b[39;00m\u001b[38;5;21;01m.\u001b[39;00m\u001b[38;5;21;01mdebug\u001b[39;00m \u001b[38;5;28;01mimport\u001b[39;00m save_args_for_compile_fx_inner\n\u001b[1;32m     50\u001b[0m \u001b[38;5;28;01mfrom\u001b[39;00m \u001b[38;5;21;01mtorch\u001b[39;00m\u001b[38;5;21;01m.\u001b[39;00m\u001b[38;5;21;01m_inductor\u001b[39;00m\u001b[38;5;21;01m.\u001b[39;00m\u001b[38;5;21;01mruntime\u001b[39;00m\u001b[38;5;21;01m.\u001b[39;00m\u001b[38;5;21;01mruntime_utils\u001b[39;00m \u001b[38;5;28;01mimport\u001b[39;00m cache_dir\n\u001b[1;32m     51\u001b[0m \u001b[38;5;28;01mfrom\u001b[39;00m \u001b[38;5;21;01mtorch\u001b[39;00m\u001b[38;5;21;01m.\u001b[39;00m\u001b[38;5;21;01m_inductor\u001b[39;00m\u001b[38;5;21;01m.\u001b[39;00m\u001b[38;5;21;01mutils\u001b[39;00m \u001b[38;5;28;01mimport\u001b[39;00m (\n\u001b[1;32m     52\u001b[0m     BoxedBool,\n\u001b[1;32m     53\u001b[0m     count_tangents,\n\u001b[0;32m   (...)\u001b[0m\n\u001b[1;32m     58\u001b[0m     tensor_is_aligned,\n\u001b[1;32m     59\u001b[0m )\n",
      "File \u001b[0;32m/opt/app-root/lib64/python3.12/site-packages/torch/_inductor/debug.py:26\u001b[0m\n\u001b[1;32m     23\u001b[0m \u001b[38;5;28;01mfrom\u001b[39;00m \u001b[38;5;21;01mtorch\u001b[39;00m\u001b[38;5;21;01m.\u001b[39;00m\u001b[38;5;21;01mfx\u001b[39;00m\u001b[38;5;21;01m.\u001b[39;00m\u001b[38;5;21;01mpasses\u001b[39;00m\u001b[38;5;21;01m.\u001b[39;00m\u001b[38;5;21;01mtools_common\u001b[39;00m \u001b[38;5;28;01mimport\u001b[39;00m legalize_graph\n\u001b[1;32m     24\u001b[0m \u001b[38;5;28;01mfrom\u001b[39;00m \u001b[38;5;21;01mtorch\u001b[39;00m\u001b[38;5;21;01m.\u001b[39;00m\u001b[38;5;21;01mutils\u001b[39;00m\u001b[38;5;21;01m.\u001b[39;00m\u001b[38;5;21;01m_pytree\u001b[39;00m \u001b[38;5;28;01mimport\u001b[39;00m tree_map\n\u001b[0;32m---> 26\u001b[0m \u001b[38;5;28;01mfrom\u001b[39;00m \u001b[38;5;21;01m.\u001b[39;00m \u001b[38;5;28;01mimport\u001b[39;00m config, ir  \u001b[38;5;66;03m# noqa: F811, this is needed\u001b[39;00m\n\u001b[1;32m     27\u001b[0m \u001b[38;5;28;01mfrom\u001b[39;00m \u001b[38;5;21;01m.\u001b[39;00m\u001b[38;5;21;01mscheduler\u001b[39;00m \u001b[38;5;28;01mimport\u001b[39;00m (\n\u001b[1;32m     28\u001b[0m     BaseSchedulerNode,\n\u001b[1;32m     29\u001b[0m     FusedSchedulerNode,\n\u001b[0;32m   (...)\u001b[0m\n\u001b[1;32m     32\u001b[0m     SchedulerNode,\n\u001b[1;32m     33\u001b[0m )\n\u001b[1;32m     34\u001b[0m \u001b[38;5;28;01mfrom\u001b[39;00m \u001b[38;5;21;01m.\u001b[39;00m\u001b[38;5;21;01mvirtualized\u001b[39;00m \u001b[38;5;28;01mimport\u001b[39;00m V\n",
      "File \u001b[0;32m/opt/app-root/lib64/python3.12/site-packages/torch/_inductor/ir.py:77\u001b[0m\n\u001b[1;32m     75\u001b[0m \u001b[38;5;28;01mfrom\u001b[39;00m \u001b[38;5;21;01m.\u001b[39;00m\u001b[38;5;21;01mops_handler\u001b[39;00m \u001b[38;5;28;01mimport\u001b[39;00m OpCounterCSE, OpCountResult\n\u001b[1;32m     76\u001b[0m \u001b[38;5;28;01mfrom\u001b[39;00m \u001b[38;5;21;01m.\u001b[39;00m\u001b[38;5;21;01mruntime\u001b[39;00m\u001b[38;5;21;01m.\u001b[39;00m\u001b[38;5;21;01mbenchmarking\u001b[39;00m \u001b[38;5;28;01mimport\u001b[39;00m benchmarker\n\u001b[0;32m---> 77\u001b[0m \u001b[38;5;28;01mfrom\u001b[39;00m \u001b[38;5;21;01m.\u001b[39;00m\u001b[38;5;21;01mruntime\u001b[39;00m\u001b[38;5;21;01m.\u001b[39;00m\u001b[38;5;21;01mhints\u001b[39;00m \u001b[38;5;28;01mimport\u001b[39;00m ReductionHint\n\u001b[1;32m     78\u001b[0m \u001b[38;5;28;01mfrom\u001b[39;00m \u001b[38;5;21;01m.\u001b[39;00m\u001b[38;5;21;01mutils\u001b[39;00m \u001b[38;5;28;01mimport\u001b[39;00m (\n\u001b[1;32m     79\u001b[0m     argsort,\n\u001b[1;32m     80\u001b[0m     cache_on_self,\n\u001b[0;32m   (...)\u001b[0m\n\u001b[1;32m     92\u001b[0m     sympy_subs,\n\u001b[1;32m     93\u001b[0m )\n\u001b[1;32m     94\u001b[0m \u001b[38;5;28;01mfrom\u001b[39;00m \u001b[38;5;21;01m.\u001b[39;00m\u001b[38;5;21;01mvirtualized\u001b[39;00m \u001b[38;5;28;01mimport\u001b[39;00m ops, OpsValue, V\n",
      "File \u001b[0;32m/opt/app-root/lib64/python3.12/site-packages/torch/_inductor/runtime/hints.py:36\u001b[0m\n\u001b[1;32m     34\u001b[0m attrs_descriptor_available \u001b[38;5;241m=\u001b[39m \u001b[38;5;28;01mTrue\u001b[39;00m\n\u001b[1;32m     35\u001b[0m \u001b[38;5;66;03m# Determine if 'ids_of_folded_args' is a valid field for AttrsDescriptor\u001b[39;00m\n\u001b[0;32m---> 36\u001b[0m attr_desc_fields \u001b[38;5;241m=\u001b[39m {f\u001b[38;5;241m.\u001b[39mname \u001b[38;5;28;01mfor\u001b[39;00m f \u001b[38;5;129;01min\u001b[39;00m \u001b[43mfields\u001b[49m\u001b[43m(\u001b[49m\u001b[43mAttrsDescriptor\u001b[49m\u001b[43m)\u001b[49m}\n\u001b[1;32m     37\u001b[0m ids_of_folded_args_available \u001b[38;5;241m=\u001b[39m \u001b[38;5;124m\"\u001b[39m\u001b[38;5;124mids_of_folded_args\u001b[39m\u001b[38;5;124m\"\u001b[39m \u001b[38;5;129;01min\u001b[39;00m attr_desc_fields\n\u001b[1;32m     38\u001b[0m divisible_by_8_available \u001b[38;5;241m=\u001b[39m \u001b[38;5;124m\"\u001b[39m\u001b[38;5;124mdivisible_by_8\u001b[39m\u001b[38;5;124m\"\u001b[39m \u001b[38;5;129;01min\u001b[39;00m attr_desc_fields\n",
      "File \u001b[0;32m/usr/lib64/python3.12/dataclasses.py:1289\u001b[0m, in \u001b[0;36mfields\u001b[0;34m(class_or_instance)\u001b[0m\n\u001b[1;32m   1287\u001b[0m     fields \u001b[38;5;241m=\u001b[39m \u001b[38;5;28mgetattr\u001b[39m(class_or_instance, _FIELDS)\n\u001b[1;32m   1288\u001b[0m \u001b[38;5;28;01mexcept\u001b[39;00m \u001b[38;5;167;01mAttributeError\u001b[39;00m:\n\u001b[0;32m-> 1289\u001b[0m     \u001b[38;5;28;01mraise\u001b[39;00m \u001b[38;5;167;01mTypeError\u001b[39;00m(\u001b[38;5;124m'\u001b[39m\u001b[38;5;124mmust be called with a dataclass type or instance\u001b[39m\u001b[38;5;124m'\u001b[39m) \u001b[38;5;28;01mfrom\u001b[39;00m \u001b[38;5;28;01mNone\u001b[39;00m\n\u001b[1;32m   1291\u001b[0m \u001b[38;5;66;03m# Exclude pseudo-fields.  Note that fields is sorted by insertion\u001b[39;00m\n\u001b[1;32m   1292\u001b[0m \u001b[38;5;66;03m# order, so the order of the tuple is as the fields were defined.\u001b[39;00m\n\u001b[1;32m   1293\u001b[0m \u001b[38;5;28;01mreturn\u001b[39;00m \u001b[38;5;28mtuple\u001b[39m(f \u001b[38;5;28;01mfor\u001b[39;00m f \u001b[38;5;129;01min\u001b[39;00m fields\u001b[38;5;241m.\u001b[39mvalues() \u001b[38;5;28;01mif\u001b[39;00m f\u001b[38;5;241m.\u001b[39m_field_type \u001b[38;5;129;01mis\u001b[39;00m _FIELD)\n",
      "\u001b[0;31mTypeError\u001b[0m: must be called with a dataclass type or instance"
     ]
    }
   ],
   "source": [
    "benchmark.run(print_data=True, show_plots=True)"
   ]
  }
 ],
 "metadata": {
  "kernelspec": {
   "display_name": "Python 3 (ipykernel)",
   "language": "python",
   "name": "python3"
  },
  "language_info": {
   "codemirror_mode": {
    "name": "ipython",
    "version": 3
   },
   "file_extension": ".py",
   "mimetype": "text/x-python",
   "name": "python",
   "nbconvert_exporter": "python",
   "pygments_lexer": "ipython3",
   "version": "3.12.5"
  }
 },
 "nbformat": 4,
 "nbformat_minor": 4
}
